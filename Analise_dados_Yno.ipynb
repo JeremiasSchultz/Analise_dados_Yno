{
  "nbformat": 4,
  "nbformat_minor": 0,
  "metadata": {
    "colab": {
      "provenance": [],
      "authorship_tag": "ABX9TyOTPkzej4NC7ASuJXAmZG3y",
      "include_colab_link": true
    },
    "kernelspec": {
      "name": "python3",
      "display_name": "Python 3"
    },
    "language_info": {
      "name": "python"
    }
  },
  "cells": [
    {
      "cell_type": "markdown",
      "metadata": {
        "id": "view-in-github",
        "colab_type": "text"
      },
      "source": [
        "<a href=\"https://colab.research.google.com/github/JeremiasSchultz/Analise_dados_Yno/blob/main/Analise_dados_Yno.ipynb\" target=\"_parent\"><img src=\"https://colab.research.google.com/assets/colab-badge.svg\" alt=\"Open In Colab\"/></a>"
      ]
    },
    {
      "cell_type": "code",
      "source": [
        "#import bibliotecas\n",
        "import pandas as pd\n",
        "import numpy as np\n",
        "import matplotlib.pyplot as plt"
      ],
      "metadata": {
        "id": "Ry24piofQcCN"
      },
      "execution_count": 1,
      "outputs": []
    },
    {
      "cell_type": "code",
      "source": [
        "#ler arquivo colab\n",
        "from google.colab import files\n",
        "uploaded = files.upload()"
      ],
      "metadata": {
        "colab": {
          "base_uri": "https://localhost:8080/",
          "height": 74
        },
        "id": "lf4M3JEIQg8i",
        "outputId": "c37873df-0315-4e8d-f4c0-5e9367001329"
      },
      "execution_count": 2,
      "outputs": [
        {
          "output_type": "display_data",
          "data": {
            "text/plain": [
              "<IPython.core.display.HTML object>"
            ],
            "text/html": [
              "\n",
              "     <input type=\"file\" id=\"files-ac6d0134-44eb-4300-aafa-fb05feef7a76\" name=\"files[]\" multiple disabled\n",
              "        style=\"border:none\" />\n",
              "     <output id=\"result-ac6d0134-44eb-4300-aafa-fb05feef7a76\">\n",
              "      Upload widget is only available when the cell has been executed in the\n",
              "      current browser session. Please rerun this cell to enable.\n",
              "      </output>\n",
              "      <script>// Copyright 2017 Google LLC\n",
              "//\n",
              "// Licensed under the Apache License, Version 2.0 (the \"License\");\n",
              "// you may not use this file except in compliance with the License.\n",
              "// You may obtain a copy of the License at\n",
              "//\n",
              "//      http://www.apache.org/licenses/LICENSE-2.0\n",
              "//\n",
              "// Unless required by applicable law or agreed to in writing, software\n",
              "// distributed under the License is distributed on an \"AS IS\" BASIS,\n",
              "// WITHOUT WARRANTIES OR CONDITIONS OF ANY KIND, either express or implied.\n",
              "// See the License for the specific language governing permissions and\n",
              "// limitations under the License.\n",
              "\n",
              "/**\n",
              " * @fileoverview Helpers for google.colab Python module.\n",
              " */\n",
              "(function(scope) {\n",
              "function span(text, styleAttributes = {}) {\n",
              "  const element = document.createElement('span');\n",
              "  element.textContent = text;\n",
              "  for (const key of Object.keys(styleAttributes)) {\n",
              "    element.style[key] = styleAttributes[key];\n",
              "  }\n",
              "  return element;\n",
              "}\n",
              "\n",
              "// Max number of bytes which will be uploaded at a time.\n",
              "const MAX_PAYLOAD_SIZE = 100 * 1024;\n",
              "\n",
              "function _uploadFiles(inputId, outputId) {\n",
              "  const steps = uploadFilesStep(inputId, outputId);\n",
              "  const outputElement = document.getElementById(outputId);\n",
              "  // Cache steps on the outputElement to make it available for the next call\n",
              "  // to uploadFilesContinue from Python.\n",
              "  outputElement.steps = steps;\n",
              "\n",
              "  return _uploadFilesContinue(outputId);\n",
              "}\n",
              "\n",
              "// This is roughly an async generator (not supported in the browser yet),\n",
              "// where there are multiple asynchronous steps and the Python side is going\n",
              "// to poll for completion of each step.\n",
              "// This uses a Promise to block the python side on completion of each step,\n",
              "// then passes the result of the previous step as the input to the next step.\n",
              "function _uploadFilesContinue(outputId) {\n",
              "  const outputElement = document.getElementById(outputId);\n",
              "  const steps = outputElement.steps;\n",
              "\n",
              "  const next = steps.next(outputElement.lastPromiseValue);\n",
              "  return Promise.resolve(next.value.promise).then((value) => {\n",
              "    // Cache the last promise value to make it available to the next\n",
              "    // step of the generator.\n",
              "    outputElement.lastPromiseValue = value;\n",
              "    return next.value.response;\n",
              "  });\n",
              "}\n",
              "\n",
              "/**\n",
              " * Generator function which is called between each async step of the upload\n",
              " * process.\n",
              " * @param {string} inputId Element ID of the input file picker element.\n",
              " * @param {string} outputId Element ID of the output display.\n",
              " * @return {!Iterable<!Object>} Iterable of next steps.\n",
              " */\n",
              "function* uploadFilesStep(inputId, outputId) {\n",
              "  const inputElement = document.getElementById(inputId);\n",
              "  inputElement.disabled = false;\n",
              "\n",
              "  const outputElement = document.getElementById(outputId);\n",
              "  outputElement.innerHTML = '';\n",
              "\n",
              "  const pickedPromise = new Promise((resolve) => {\n",
              "    inputElement.addEventListener('change', (e) => {\n",
              "      resolve(e.target.files);\n",
              "    });\n",
              "  });\n",
              "\n",
              "  const cancel = document.createElement('button');\n",
              "  inputElement.parentElement.appendChild(cancel);\n",
              "  cancel.textContent = 'Cancel upload';\n",
              "  const cancelPromise = new Promise((resolve) => {\n",
              "    cancel.onclick = () => {\n",
              "      resolve(null);\n",
              "    };\n",
              "  });\n",
              "\n",
              "  // Wait for the user to pick the files.\n",
              "  const files = yield {\n",
              "    promise: Promise.race([pickedPromise, cancelPromise]),\n",
              "    response: {\n",
              "      action: 'starting',\n",
              "    }\n",
              "  };\n",
              "\n",
              "  cancel.remove();\n",
              "\n",
              "  // Disable the input element since further picks are not allowed.\n",
              "  inputElement.disabled = true;\n",
              "\n",
              "  if (!files) {\n",
              "    return {\n",
              "      response: {\n",
              "        action: 'complete',\n",
              "      }\n",
              "    };\n",
              "  }\n",
              "\n",
              "  for (const file of files) {\n",
              "    const li = document.createElement('li');\n",
              "    li.append(span(file.name, {fontWeight: 'bold'}));\n",
              "    li.append(span(\n",
              "        `(${file.type || 'n/a'}) - ${file.size} bytes, ` +\n",
              "        `last modified: ${\n",
              "            file.lastModifiedDate ? file.lastModifiedDate.toLocaleDateString() :\n",
              "                                    'n/a'} - `));\n",
              "    const percent = span('0% done');\n",
              "    li.appendChild(percent);\n",
              "\n",
              "    outputElement.appendChild(li);\n",
              "\n",
              "    const fileDataPromise = new Promise((resolve) => {\n",
              "      const reader = new FileReader();\n",
              "      reader.onload = (e) => {\n",
              "        resolve(e.target.result);\n",
              "      };\n",
              "      reader.readAsArrayBuffer(file);\n",
              "    });\n",
              "    // Wait for the data to be ready.\n",
              "    let fileData = yield {\n",
              "      promise: fileDataPromise,\n",
              "      response: {\n",
              "        action: 'continue',\n",
              "      }\n",
              "    };\n",
              "\n",
              "    // Use a chunked sending to avoid message size limits. See b/62115660.\n",
              "    let position = 0;\n",
              "    do {\n",
              "      const length = Math.min(fileData.byteLength - position, MAX_PAYLOAD_SIZE);\n",
              "      const chunk = new Uint8Array(fileData, position, length);\n",
              "      position += length;\n",
              "\n",
              "      const base64 = btoa(String.fromCharCode.apply(null, chunk));\n",
              "      yield {\n",
              "        response: {\n",
              "          action: 'append',\n",
              "          file: file.name,\n",
              "          data: base64,\n",
              "        },\n",
              "      };\n",
              "\n",
              "      let percentDone = fileData.byteLength === 0 ?\n",
              "          100 :\n",
              "          Math.round((position / fileData.byteLength) * 100);\n",
              "      percent.textContent = `${percentDone}% done`;\n",
              "\n",
              "    } while (position < fileData.byteLength);\n",
              "  }\n",
              "\n",
              "  // All done.\n",
              "  yield {\n",
              "    response: {\n",
              "      action: 'complete',\n",
              "    }\n",
              "  };\n",
              "}\n",
              "\n",
              "scope.google = scope.google || {};\n",
              "scope.google.colab = scope.google.colab || {};\n",
              "scope.google.colab._files = {\n",
              "  _uploadFiles,\n",
              "  _uploadFilesContinue,\n",
              "};\n",
              "})(self);\n",
              "</script> "
            ]
          },
          "metadata": {}
        },
        {
          "output_type": "stream",
          "name": "stdout",
          "text": [
            "Saving dados.csv to dados.csv\n"
          ]
        }
      ]
    },
    {
      "cell_type": "code",
      "source": [
        "#define data frame\n",
        "df = pd.read_csv('dados.csv')"
      ],
      "metadata": {
        "colab": {
          "base_uri": "https://localhost:8080/"
        },
        "id": "hBPrez2jQkSy",
        "outputId": "b98aed78-55c4-45f3-f71b-c29e36838778"
      },
      "execution_count": 63,
      "outputs": [
        {
          "output_type": "stream",
          "name": "stderr",
          "text": [
            "/usr/local/lib/python3.8/dist-packages/IPython/core/interactiveshell.py:3326: DtypeWarning: Columns (2,3,4,5,6,7) have mixed types.Specify dtype option on import or set low_memory=False.\n",
            "  exec(code_obj, self.user_global_ns, self.user_ns)\n"
          ]
        }
      ]
    },
    {
      "cell_type": "code",
      "source": [
        "#manipula DF\n",
        "\n",
        "df['DateTime'] = df['Date'] + ' ' + df['Time']\n",
        "df['DateTime'] = pd.to_datetime(df.DateTime,format='%d/%m/%Y %H:%M:%S')"
      ],
      "metadata": {
        "id": "gq2urwsccwGT"
      },
      "execution_count": 64,
      "outputs": []
    },
    {
      "cell_type": "code",
      "source": [
        "#define colunas necessárias\n",
        "df1 = df[['DateTime','Sub_metering_1','Sub_metering_2','Sub_metering_3']]"
      ],
      "metadata": {
        "id": "6s6KcGOicwI_"
      },
      "execution_count": 65,
      "outputs": []
    },
    {
      "cell_type": "code",
      "source": [
        "#condição para linhas diferentes\n",
        "\n",
        "verifica_linhas = df1[(df1['Sub_metering_1'] == '?') | (df1['Sub_metering_2'] == '?')| (df1['Sub_metering_3'] == '?')].index\n",
        "df2 = df1.drop(verifica_linhas)"
      ],
      "metadata": {
        "id": "hsGiX4xXcwLX"
      },
      "execution_count": 66,
      "outputs": []
    },
    {
      "cell_type": "code",
      "source": [
        "# tranformando em numérico\n",
        "df2[['Sub_metering_1','Sub_metering_2','Sub_metering_3']] = df2[['Sub_metering_1','Sub_metering_2','Sub_metering_3']].apply(pd.to_numeric)"
      ],
      "metadata": {
        "id": "TYj1-aMFql4C"
      },
      "execution_count": 67,
      "outputs": []
    },
    {
      "cell_type": "code",
      "source": [
        "#conta linhas\n",
        "clinhs = df2[df2.columns[0]].count()\n",
        "print(clinhs)"
      ],
      "metadata": {
        "colab": {
          "base_uri": "https://localhost:8080/"
        },
        "id": "_qbGxvuNqoFQ",
        "outputId": "fb49f2ee-e852-40c1-98b3-21c195bde96b"
      },
      "execution_count": 68,
      "outputs": [
        {
          "output_type": "stream",
          "name": "stdout",
          "text": [
            "2049280\n"
          ]
        }
      ]
    },
    {
      "cell_type": "code",
      "execution_count": 69,
      "metadata": {
        "colab": {
          "base_uri": "https://localhost:8080/"
        },
        "id": "8ovd1cJgPSq2",
        "outputId": "bd0efb78-174d-4582-c933-652ad9f2d03d"
      },
      "outputs": [
        {
          "output_type": "stream",
          "name": "stdout",
          "text": [
            "Consumos médio\n",
            "Consumo medio sub_meterinf_1: 1.12\n",
            "Consumo medio sub_meterinf_2: 1.30\n",
            "Consumo medio sub_meterinf_3: 6.46\n"
          ]
        }
      ],
      "source": [
        "#consumo médio\n",
        "sub1 = np.ndarray(shape=(24,),dtype=float)\n",
        "sub2 = np.ndarray(shape=(24,),dtype=float)\n",
        "sub3 = np.ndarray(shape=(24,),dtype=float)\n",
        "subt = np.ndarray(shape=(24,),dtype=float)\n",
        "\n",
        "for h in range(24):\n",
        "    hora = str(h)\n",
        "    df2.index = pd.to_datetime(df2['DateTime'])\n",
        "    df3 = df2.between_time(hora+':00:00',hora+':59:59')\n",
        "    sub1[h] = df3['Sub_metering_1'].sum()\n",
        "    sub2[h] = df3['Sub_metering_2'].sum()\n",
        "    sub3[h] = df3['Sub_metering_3'].sum()\n",
        "\n",
        "    subt[h]= sub1[h]+sub2[h]+sub3[h]\n",
        "\n",
        "print('Consumos médio')\n",
        "\n",
        "mediasub1 = df2['Sub_metering_1'].mean()\n",
        "print('Consumo medio sub_meterinf_1: {:.2f}'.format(mediasub1))\n",
        "\n",
        "mediasub2 = df2['Sub_metering_2'].mean()\n",
        "print('Consumo medio sub_meterinf_2: {:.2f}'.format(mediasub2))\n",
        "\n",
        "mediasub3 = df2['Sub_metering_3'].mean()\n",
        "print('Consumo medio sub_meterinf_3: {:.2f}'.format(mediasub3))"
      ]
    },
    {
      "cell_type": "code",
      "source": [
        "print('Consumos máximo')\n",
        "\n",
        "maxSub1=df2['Sub_metering_1'].max()\n",
        "print('Consumo max Sub_meteting_1:',maxSub1)\n",
        "\n",
        "maxSub2=df2['Sub_metering_2'].max()\n",
        "print('Consumo max Sub_meteting_2:',maxSub2)\n",
        "\n",
        "maxSub3=df2['Sub_metering_3'].max()\n",
        "print('Consumo max Sub_meteting_3:',maxSub3)"
      ],
      "metadata": {
        "colab": {
          "base_uri": "https://localhost:8080/"
        },
        "id": "CCgmg-x5sfoq",
        "outputId": "ae2f135b-4cb8-4329-fbfe-b9fb9676362d"
      },
      "execution_count": 70,
      "outputs": [
        {
          "output_type": "stream",
          "name": "stdout",
          "text": [
            "Consumos máximo\n",
            "Consumo max Sub_meteting_1: 88.0\n",
            "Consumo max Sub_meteting_2: 80.0\n",
            "Consumo max Sub_meteting_3: 31.0\n"
          ]
        }
      ]
    },
    {
      "cell_type": "code",
      "source": [
        "#O gráfico do consumo de cada um dos sensores separadamente\n",
        "h = np.arange(24)\n",
        "\n",
        "plt.subplot(3,1,1)\n",
        "\n",
        "plt.bar(h,sub1)\n",
        "plt.xlabel('hora')\n",
        "plt.ylabel('consumo')\n",
        "plt.title('Sub-meter 1')\n",
        "\n",
        "plt.subplot(3,1,2)\n",
        "\n",
        "\n",
        "plt.bar(h,sub2)\n",
        "plt.xlabel('hora')\n",
        "plt.ylabel('consumo')\n",
        "plt.title('Sub-meter 2')\n",
        "\n",
        "plt.subplot(3,1,3)\n",
        "\n",
        "plt.bar(h,sub3)\n",
        "plt.xlabel('hora')\n",
        "plt.ylabel('consumo')\n",
        "plt.title('Sub-meter 3')\n",
        "\n",
        "\n"
      ],
      "metadata": {
        "colab": {
          "base_uri": "https://localhost:8080/",
          "height": 313
        },
        "id": "uXqn3cUPvXf7",
        "outputId": "1fd77e95-efc2-422a-91f1-91b550cf4c31"
      },
      "execution_count": 71,
      "outputs": [
        {
          "output_type": "execute_result",
          "data": {
            "text/plain": [
              "Text(0.5, 1.0, 'Sub-meter 3')"
            ]
          },
          "metadata": {},
          "execution_count": 71
        },
        {
          "output_type": "display_data",
          "data": {
            "text/plain": [
              "<Figure size 432x288 with 3 Axes>"
            ],
            "image/png": "[encoded data removed]"
          },
          "metadata": {
            "needs_background": "light"
          }
        }
      ]
    },
    {
      "cell_type": "code",
      "source": [
        "plt.bar(h,subt)\n",
        "plt.xlabel('hora')\n",
        "plt.ylabel('consumo')\n",
        "plt.title('Sub-meter total')\n"
      ],
      "metadata": {
        "colab": {
          "base_uri": "https://localhost:8080/",
          "height": 313
        },
        "id": "w-03vNfXvpNc",
        "outputId": "10a405f3-6602-46a3-b21f-ad434b59322b"
      },
      "execution_count": 72,
      "outputs": [
        {
          "output_type": "execute_result",
          "data": {
            "text/plain": [
              "Text(0.5, 1.0, 'Sub-meter total')"
            ]
          },
          "metadata": {},
          "execution_count": 72
        },
        {
          "output_type": "display_data",
          "data": {
            "text/plain": [
              "<Figure size 432x288 with 1 Axes>"
            ],
            "image/png": "[encoded data removed]"
          },
          "metadata": {
            "needs_background": "light"
          }
        }
      ]
    },
    {
      "cell_type": "code",
      "source": [
        "\n",
        "plt.show()"
      ],
      "metadata": {
        "id": "fL_F1AlVvtOk"
      },
      "execution_count": 73,
      "outputs": []
    }
  ]
}